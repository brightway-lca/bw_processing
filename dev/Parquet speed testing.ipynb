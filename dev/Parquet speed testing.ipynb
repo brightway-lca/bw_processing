{
 "cells": [
  {
   "cell_type": "markdown",
   "id": "415035b1-a9e5-4ede-b7ed-2bb9034e5d7a",
   "metadata": {},
   "source": [
    "# Parquest speed testing versus Numpy `.npy` files"
   ]
  },
  {
   "cell_type": "code",
   "execution_count": 11,
   "id": "68b18129-3ca5-48bd-bea8-d5c3a14411da",
   "metadata": {},
   "outputs": [],
   "source": [
    "import pyarrow, fastparquet, time\n",
    "import pyarrow.parquet as pq\n",
    "import numpy as np"
   ]
  },
  {
   "cell_type": "code",
   "execution_count": 3,
   "id": "95ee0d2a-bd2e-489f-a177-3da6af8458b9",
   "metadata": {},
   "outputs": [],
   "source": [
    "fp = 'dev/ecoinvent/ecoinvent_biosphere_matrix.data.npy'"
   ]
  },
  {
   "cell_type": "code",
   "execution_count": 7,
   "id": "468e21ea-623d-4ce1-b216-bfe335eed388",
   "metadata": {},
   "outputs": [
    {
     "name": "stdout",
     "output_type": "stream",
     "text": [
      "500 µs ± 51.8 µs per loop (mean ± std. dev. of 7 runs, 1,000 loops each)\n"
     ]
    }
   ],
   "source": [
    "%timeit np.load(fp)"
   ]
  },
  {
   "cell_type": "code",
   "execution_count": 8,
   "id": "56cac591-b77a-4a7d-96fa-afaa9c8decc8",
   "metadata": {},
   "outputs": [],
   "source": [
    "array = np.load(fp)"
   ]
  },
  {
   "cell_type": "code",
   "execution_count": 16,
   "id": "1d8339e1-e4cd-4ae7-a214-7d0e788217f0",
   "metadata": {},
   "outputs": [],
   "source": [
    "pq.write_table(pyarrow.table([pa], names=['biosphere']), 'biosphere.parquet')"
   ]
  },
  {
   "cell_type": "code",
   "execution_count": 22,
   "id": "c5139cff-c5d9-4d72-b32d-75a2cda340e7",
   "metadata": {},
   "outputs": [
    {
     "name": "stdout",
     "output_type": "stream",
     "text": [
      "2.57 ms ± 352 µs per loop (mean ± std. dev. of 7 runs, 100 loops each)\n"
     ]
    }
   ],
   "source": [
    "%timeit pq.read_table('biosphere.parquet')['biosphere'].to_numpy()"
   ]
  },
  {
   "cell_type": "code",
   "execution_count": 24,
   "id": "1f476689-87ca-4853-883f-57cf95d98e77",
   "metadata": {},
   "outputs": [
    {
     "name": "stdout",
     "output_type": "stream",
     "text": [
      "204 µs ± 11.2 µs per loop (mean ± std. dev. of 7 runs, 10,000 loops each)\n"
     ]
    }
   ],
   "source": [
    "%timeit fastparquet.ParquetFile('biosphere.parquet')"
   ]
  },
  {
   "cell_type": "code",
   "execution_count": 27,
   "id": "25ed8a5b-f183-4234-8bf9-3375cf15e0f1",
   "metadata": {},
   "outputs": [
    {
     "data": {
      "text/plain": [
       "<Parquet File: {'name': '/Users/cmutel/Code/brightway/processing/biosphere.parquet', 'columns': ['biosphere'], 'partitions': [], 'rows': 388452, 'row_groups': 1}>"
      ]
     },
     "execution_count": 27,
     "metadata": {},
     "output_type": "execute_result"
    }
   ],
   "source": [
    "fp = fastparquet.ParquetFile('biosphere.parquet')\n",
    "fp"
   ]
  },
  {
   "cell_type": "markdown",
   "id": "f62bf4a8-b5bf-46e5-83c3-06bcd7b32a47",
   "metadata": {},
   "source": [
    "No easy or direct way to convert to Numpy arrays."
   ]
  },
  {
   "cell_type": "code",
   "execution_count": null,
   "id": "cff3cc38-d123-4b53-bc35-b8fc6d404800",
   "metadata": {},
   "outputs": [],
   "source": []
  }
 ],
 "metadata": {
  "kernelspec": {
   "display_name": "Python 3 (ipykernel)",
   "language": "python",
   "name": "python3"
  },
  "language_info": {
   "codemirror_mode": {
    "name": "ipython",
    "version": 3
   },
   "file_extension": ".py",
   "mimetype": "text/x-python",
   "name": "python",
   "nbconvert_exporter": "python",
   "pygments_lexer": "ipython3",
   "version": "3.10.4"
  }
 },
 "nbformat": 4,
 "nbformat_minor": 5
}
