{
 "cells": [
  {
   "cell_type": "markdown",
   "metadata": {},
   "source": [
    "Our data generator will have three components. First, we define the link between the \"magic\" integer ids and the object attributes (e.g. name, location, etc. of activities in EXIOBASE). This will be in a Pandas dataframe."
   ]
  },
  {
   "cell_type": "code",
   "execution_count": 1,
   "metadata": {},
   "outputs": [],
   "source": [
    "import pandas as pd"
   ]
  },
  {
   "cell_type": "code",
   "execution_count": 2,
   "metadata": {},
   "outputs": [],
   "source": [
    "df = pd.DataFrame([\n",
    "    {'index': 0, 'name': 'foo', 'location': 'CH'},\n",
    "    {'index': 1, 'name': 'foo', 'location': 'FR'},\n",
    "    {'index': 2, 'name': 'bar', 'location': 'DE'},\n",
    "]).set_index('index')"
   ]
  },
  {
   "cell_type": "code",
   "execution_count": 3,
   "metadata": {},
   "outputs": [
    {
     "data": {
      "text/html": [
       "<div>\n",
       "<style scoped>\n",
       "    .dataframe tbody tr th:only-of-type {\n",
       "        vertical-align: middle;\n",
       "    }\n",
       "\n",
       "    .dataframe tbody tr th {\n",
       "        vertical-align: top;\n",
       "    }\n",
       "\n",
       "    .dataframe thead th {\n",
       "        text-align: right;\n",
       "    }\n",
       "</style>\n",
       "<table border=\"1\" class=\"dataframe\">\n",
       "  <thead>\n",
       "    <tr style=\"text-align: right;\">\n",
       "      <th></th>\n",
       "      <th>name</th>\n",
       "      <th>location</th>\n",
       "    </tr>\n",
       "    <tr>\n",
       "      <th>index</th>\n",
       "      <th></th>\n",
       "      <th></th>\n",
       "    </tr>\n",
       "  </thead>\n",
       "  <tbody>\n",
       "    <tr>\n",
       "      <th>0</th>\n",
       "      <td>foo</td>\n",
       "      <td>CH</td>\n",
       "    </tr>\n",
       "    <tr>\n",
       "      <th>1</th>\n",
       "      <td>foo</td>\n",
       "      <td>FR</td>\n",
       "    </tr>\n",
       "    <tr>\n",
       "      <th>2</th>\n",
       "      <td>bar</td>\n",
       "      <td>DE</td>\n",
       "    </tr>\n",
       "  </tbody>\n",
       "</table>\n",
       "</div>"
      ],
      "text/plain": [
       "      name location\n",
       "index              \n",
       "0      foo       CH\n",
       "1      foo       FR\n",
       "2      bar       DE"
      ]
     },
     "execution_count": 3,
     "metadata": {},
     "output_type": "execute_result"
    }
   ],
   "source": [
    "df"
   ]
  },
  {
   "cell_type": "markdown",
   "metadata": {},
   "source": [
    "Then we have the generator function itself. This can generate an infinite series, but we need to define ahead of time the number of rows (i.e. the number of exchanges that will be modified).\n",
    "\n",
    "We will have two rows in this example. When iterated over, our function will therefore return a 1-d numpy array of length 2."
   ]
  },
  {
   "cell_type": "code",
   "execution_count": 6,
   "metadata": {},
   "outputs": [],
   "source": [
    "import numpy as np"
   ]
  },
  {
   "cell_type": "code",
   "execution_count": 7,
   "metadata": {},
   "outputs": [],
   "source": [
    "def gen_func():\n",
    "    while True:\n",
    "        yield np.random.random(size=(2,))"
   ]
  },
  {
   "cell_type": "code",
   "execution_count": 8,
   "metadata": {},
   "outputs": [
    {
     "name": "stdout",
     "output_type": "stream",
     "text": [
      "0 [0.80917835 0.18277058]\n",
      "1 [0.99828613 0.94558437]\n",
      "2 [0.14162607 0.23392832]\n",
      "3 [0.02861499 0.92182092]\n",
      "4 [0.47642805 0.96394575]\n",
      "5 [0.81737114 0.57888545]\n",
      "6 [0.10742288 0.76787843]\n",
      "7 [0.18578976 0.41947305]\n",
      "8 [0.8404466 0.4388719]\n",
      "9 [0.21330664 0.1809946 ]\n"
     ]
    }
   ],
   "source": [
    "for x, y in zip(range(10), gen_func()):\n",
    "    print(x, y)"
   ]
  },
  {
   "cell_type": "markdown",
   "metadata": {},
   "source": [
    "Finally, we need to define which exchange both elements in our data generator refer to. Here, we again use our \"magic\" integer ids."
   ]
  },
  {
   "cell_type": "code",
   "execution_count": 11,
   "metadata": {},
   "outputs": [],
   "source": [
    "exchanges = [\n",
    "    {\"row\": 0, \"col\": 1},\n",
    "    {\"row\": 1, \"col\": 2},\n",
    "]"
   ]
  },
  {
   "cell_type": "markdown",
   "metadata": {},
   "source": [
    "We can now add all three components to a processed data package."
   ]
  },
  {
   "cell_type": "code",
   "execution_count": 1,
   "metadata": {},
   "outputs": [],
   "source": [
    "from bw_processing import *"
   ]
  },
  {
   "cell_type": "code",
   "execution_count": null,
   "metadata": {},
   "outputs": [],
   "source": [
    "dirname = \"generator_metadata\""
   ]
  },
  {
   "cell_type": "markdown",
   "metadata": {},
   "source": [
    "This will create the directory ``dirname`` in the working directory of this notebook. You can also pass in a string (or `pathlib.Path` instance) for any other path.\n",
    "\n",
    "If you run this twice, you will need to change `dirname` or delete the created directory, or you will get an error."
   ]
  },
  {
   "cell_type": "code",
   "execution_count": 8,
   "metadata": {},
   "outputs": [],
   "source": [
    "dp = Datapackage.create(dirname)"
   ]
  },
  {
   "cell_type": "markdown",
   "metadata": {},
   "source": [
    "The order things are added in is important, and we need to include the logical connection between them."
   ]
  },
  {
   "cell_type": "code",
   "execution_count": 9,
   "metadata": {},
   "outputs": [],
   "source": [
    "dp.add_presamples_data_array(\n",
    "    gen_func,\n",
    "    matrix_label=\"technosphere\", \n",
    "    name=\"infinite-data\", \n",
    "    is_interface=True # The magic that allows for infinite sequences\n",
    ")"
   ]
  },
  {
   "cell_type": "code",
   "execution_count": 12,
   "metadata": {},
   "outputs": [],
   "source": [
    "dp.add_presamples_indices_array(\n",
    "    # indices_wrapper allows us to use a list of dicts, \n",
    "    # instead of building the array ourselfes\n",
    "    indices_wrapper(exchanges), \n",
    "    data_array=\"infinite-data\",\n",
    "    name=\"infinite-data-indices\",\n",
    "    nrows=2\n",
    ")"
   ]
  },
  {
   "cell_type": "code",
   "execution_count": 13,
   "metadata": {},
   "outputs": [],
   "source": [
    "dp.add_csv_metadata(\n",
    "    df, \n",
    "    valid_for=[(\"infinite-data-indices\", \"rows\"), (\"infinite-data-indices\", \"cols\")], \n",
    "    name=\"infinite-data-meta\"\n",
    ")"
   ]
  },
  {
   "cell_type": "code",
   "execution_count": 14,
   "metadata": {},
   "outputs": [
    {
     "data": {
      "text/plain": [
       "{'profile': 'data-package',\n",
       " 'name': 'a227c871c02648f78fe75df905bf8d4b',\n",
       " 'id': '04e4ea83757c4e938fbb9ca06c79461e',\n",
       " 'licenses': [{'name': 'ODC-PDDL-1.0',\n",
       "   'path': 'http://opendatacommons.org/licenses/pddl/',\n",
       "   'title': 'Open Data Commons Public Domain Dedication and License v1.0'}],\n",
       " 'resources': [{'profile': 'interface',\n",
       "   'format': 'npy',\n",
       "   'mediatype': 'application/octet-stream',\n",
       "   'name': 'infinite-data',\n",
       "   'matrix': 'technosphere'},\n",
       "  {'profile': 'data-resource',\n",
       "   'format': 'npy',\n",
       "   'mediatype': 'application/octet-stream',\n",
       "   'name': 'infinite-data-indices',\n",
       "   'path': 'infinite-data-indices.npy',\n",
       "   'data_array': 'infinite-data'},\n",
       "  {'profile': 'data-resource',\n",
       "   'mediatype': 'text/csv',\n",
       "   'path': 'infinite-data-meta.csv',\n",
       "   'name': 'infinite-data-meta',\n",
       "   'valid_for': [('infinite-data-indices', 'rows'),\n",
       "    ('infinite-data-indices', 'cols')]}],\n",
       " 'created': '2020-09-25T07:08:23.284964Z'}"
      ]
     },
     "execution_count": 14,
     "metadata": {},
     "output_type": "execute_result"
    }
   ],
   "source": [
    "dp.metadata"
   ]
  },
  {
   "cell_type": "code",
   "execution_count": 17,
   "metadata": {},
   "outputs": [
    {
     "data": {
      "text/plain": [
       "[<function __main__.gen_func()>,\n",
       " A deferred function that will read data only when needed,\n",
       "       name location\n",
       " index              \n",
       " 0      foo       CH\n",
       " 1      foo       FR\n",
       " 2      bar       DE]"
      ]
     },
     "execution_count": 17,
     "metadata": {},
     "output_type": "execute_result"
    }
   ],
   "source": [
    "dp.data"
   ]
  },
  {
   "cell_type": "code",
   "execution_count": 18,
   "metadata": {},
   "outputs": [],
   "source": [
    "dp.finalize()"
   ]
  },
  {
   "cell_type": "code",
   "execution_count": 20,
   "metadata": {},
   "outputs": [
    {
     "data": {
      "text/plain": [
       "[A deferred function that will read data only when needed,\n",
       "       name location\n",
       " index              \n",
       " 0      foo       CH\n",
       " 1      foo       FR\n",
       " 2      bar       DE]"
      ]
     },
     "execution_count": 20,
     "metadata": {},
     "output_type": "execute_result"
    }
   ],
   "source": [
    "dp.data"
   ]
  },
  {
   "cell_type": "code",
   "execution_count": 22,
   "metadata": {},
   "outputs": [
    {
     "data": {
      "text/plain": [
       "[{'profile': 'data-resource',\n",
       "  'format': 'npy',\n",
       "  'mediatype': 'application/octet-stream',\n",
       "  'name': 'infinite-data-indices',\n",
       "  'path': 'infinite-data-indices.npy',\n",
       "  'data_array': 'infinite-data'},\n",
       " {'profile': 'data-resource',\n",
       "  'mediatype': 'text/csv',\n",
       "  'path': 'infinite-data-meta.csv',\n",
       "  'name': 'infinite-data-meta',\n",
       "  'valid_for': [('infinite-data-indices', 'rows'),\n",
       "   ('infinite-data-indices', 'cols')]}]"
      ]
     },
     "execution_count": 22,
     "metadata": {},
     "output_type": "execute_result"
    }
   ],
   "source": [
    "dp.resources"
   ]
  },
  {
   "cell_type": "code",
   "execution_count": 19,
   "metadata": {},
   "outputs": [
    {
     "name": "stdout",
     "output_type": "stream",
     "text": [
      "datapackage.json           infinite-data-meta.csv\r\n",
      "infinite-data-indices.npy\r\n"
     ]
    }
   ],
   "source": [
    "ls generator_metadata/"
   ]
  },
  {
   "cell_type": "markdown",
   "metadata": {},
   "source": [
    "Test loading to make sure things are reasonable."
   ]
  },
  {
   "cell_type": "code",
   "execution_count": 1,
   "metadata": {},
   "outputs": [],
   "source": [
    "from bw_processing import *"
   ]
  },
  {
   "cell_type": "code",
   "execution_count": 2,
   "metadata": {},
   "outputs": [],
   "source": [
    "dp = Datapackage.load(\"generator_metadata\")"
   ]
  },
  {
   "cell_type": "code",
   "execution_count": 3,
   "metadata": {},
   "outputs": [
    {
     "data": {
      "text/plain": [
       "[array([(0, 1, 2147483647, 2147483647), (1, 2, 2147483647, 2147483647)],\n",
       "       dtype=[('row_value', '<i4'), ('col_value', '<i4'), ('row_index', '<i4'), ('col_index', '<i4')]),\n",
       "    index name location\n",
       " 0      0  foo       CH\n",
       " 1      1  foo       FR\n",
       " 2      2  bar       DE]"
      ]
     },
     "execution_count": 3,
     "metadata": {},
     "output_type": "execute_result"
    }
   ],
   "source": [
    "dp.data"
   ]
  },
  {
   "cell_type": "code",
   "execution_count": 5,
   "metadata": {},
   "outputs": [
    {
     "data": {
      "text/plain": [
       "{'profile': 'data-package',\n",
       " 'name': 'a227c871c02648f78fe75df905bf8d4b',\n",
       " 'id': '04e4ea83757c4e938fbb9ca06c79461e',\n",
       " 'licenses': [{'name': 'ODC-PDDL-1.0',\n",
       "   'path': 'http://opendatacommons.org/licenses/pddl/',\n",
       "   'title': 'Open Data Commons Public Domain Dedication and License v1.0'}],\n",
       " 'resources': [{'profile': 'data-resource',\n",
       "   'format': 'npy',\n",
       "   'mediatype': 'application/octet-stream',\n",
       "   'name': 'infinite-data-indices',\n",
       "   'path': 'infinite-data-indices.npy',\n",
       "   'data_array': 'infinite-data'},\n",
       "  {'profile': 'data-resource',\n",
       "   'mediatype': 'text/csv',\n",
       "   'path': 'infinite-data-meta.csv',\n",
       "   'name': 'infinite-data-meta',\n",
       "   'valid_for': [['infinite-data-indices', 'rows'],\n",
       "    ['infinite-data-indices', 'cols']]}],\n",
       " 'created': '2020-09-25T07:08:23.284964Z'}"
      ]
     },
     "execution_count": 5,
     "metadata": {},
     "output_type": "execute_result"
    }
   ],
   "source": [
    "dp.metadata"
   ]
  },
  {
   "cell_type": "markdown",
   "metadata": {},
   "source": [
    "To make this fully functional, we just need to add the generator data resource with the same name."
   ]
  },
  {
   "cell_type": "code",
   "execution_count": 9,
   "metadata": {},
   "outputs": [],
   "source": [
    "dp.add_presamples_data_array(\n",
    "    gen_func,\n",
    "    matrix_label=\"technosphere\", \n",
    "    name=\"infinite-data\", \n",
    "    is_interface=True\n",
    ")"
   ]
  },
  {
   "cell_type": "code",
   "execution_count": 10,
   "metadata": {},
   "outputs": [
    {
     "data": {
      "text/plain": [
       "{'profile': 'data-package',\n",
       " 'name': 'a227c871c02648f78fe75df905bf8d4b',\n",
       " 'id': '04e4ea83757c4e938fbb9ca06c79461e',\n",
       " 'licenses': [{'name': 'ODC-PDDL-1.0',\n",
       "   'path': 'http://opendatacommons.org/licenses/pddl/',\n",
       "   'title': 'Open Data Commons Public Domain Dedication and License v1.0'}],\n",
       " 'resources': [{'profile': 'data-resource',\n",
       "   'format': 'npy',\n",
       "   'mediatype': 'application/octet-stream',\n",
       "   'name': 'infinite-data-indices',\n",
       "   'path': 'infinite-data-indices.npy',\n",
       "   'data_array': 'infinite-data'},\n",
       "  {'profile': 'data-resource',\n",
       "   'mediatype': 'text/csv',\n",
       "   'path': 'infinite-data-meta.csv',\n",
       "   'name': 'infinite-data-meta',\n",
       "   'valid_for': [['infinite-data-indices', 'rows'],\n",
       "    ['infinite-data-indices', 'cols']]},\n",
       "  {'profile': 'interface',\n",
       "   'format': 'npy',\n",
       "   'mediatype': 'application/octet-stream',\n",
       "   'name': 'infinite-data',\n",
       "   'matrix': 'technosphere'}],\n",
       " 'created': '2020-09-25T07:08:23.284964Z'}"
      ]
     },
     "execution_count": 10,
     "metadata": {},
     "output_type": "execute_result"
    }
   ],
   "source": [
    "dp.metadata"
   ]
  },
  {
   "cell_type": "code",
   "execution_count": null,
   "metadata": {},
   "outputs": [],
   "source": []
  }
 ],
 "metadata": {
  "kernelspec": {
   "display_name": "Python 3",
   "language": "python",
   "name": "python3"
  },
  "language_info": {
   "codemirror_mode": {
    "name": "ipython",
    "version": 3
   },
   "file_extension": ".py",
   "mimetype": "text/x-python",
   "name": "python",
   "nbconvert_exporter": "python",
   "pygments_lexer": "ipython3",
   "version": "3.7.6"
  }
 },
 "nbformat": 4,
 "nbformat_minor": 4
}
