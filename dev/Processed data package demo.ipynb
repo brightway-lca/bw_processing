{
 "cells": [
  {
   "cell_type": "markdown",
   "id": "36f03a2e",
   "metadata": {},
   "source": [
    "# Processed data package demo"
   ]
  },
  {
   "cell_type": "code",
   "execution_count": 1,
   "id": "87261dc8",
   "metadata": {},
   "outputs": [],
   "source": [
    "import bw_processing as bwp\n",
    "import numpy as np"
   ]
  },
  {
   "cell_type": "markdown",
   "id": "93b95e8b",
   "metadata": {},
   "source": [
    "Let's create a temporary directory to play around in:"
   ]
  },
  {
   "cell_type": "code",
   "execution_count": 2,
   "id": "9b346eb3",
   "metadata": {},
   "outputs": [],
   "source": [
    "import tempfile, os"
   ]
  },
  {
   "cell_type": "code",
   "execution_count": 3,
   "id": "5462a3f1",
   "metadata": {},
   "outputs": [],
   "source": [
    "tempdir = tempfile.mkdtemp()\n",
    "os.chdir(tempdir)"
   ]
  },
  {
   "cell_type": "markdown",
   "id": "3e4e032e",
   "metadata": {},
   "source": [
    "There are two main interfaces for `bw_processing`: `create_datapackage` and `load_datapackage`. They both return an instance of `bw_processing.datapackage.Datapackage`. Let's create a datapackage:"
   ]
  },
  {
   "cell_type": "code",
   "execution_count": 4,
   "id": "f27c3861",
   "metadata": {},
   "outputs": [],
   "source": [
    "dp = bwp.create_datapackage()"
   ]
  },
  {
   "cell_type": "markdown",
   "id": "e90bbc61",
   "metadata": {},
   "source": [
    "And add the simplest kind of data, a vector of static data:"
   ]
  },
  {
   "cell_type": "code",
   "execution_count": 5,
   "id": "cfa47919",
   "metadata": {},
   "outputs": [],
   "source": [
    "dp.add_persistent_vector(\n",
    "    matrix=\"something\",\n",
    "    indices_array=np.arange(10).astype(bwp.INDICES_DTYPE),\n",
    "    data_array=np.arange(10),\n",
    "    name='first'\n",
    ")"
   ]
  },
  {
   "cell_type": "markdown",
   "id": "9c1aba65",
   "metadata": {},
   "source": [
    "The default filesystem is in-memory, so we can't save or serialize this data, but we can look at it. The `Datapackage` class exposes three attributes: `data`, `metadata`, and `resources`, which is just a shortcut to `dp.metadata['resources']`. This layout and terminology follow the Datapackage standard by the Open Knowledge Foundation."
   ]
  },
  {
   "cell_type": "markdown",
   "id": "73c0d0a8",
   "metadata": {},
   "source": [
    "We added two arrays, so the `data` attribute has these two arrays:"
   ]
  },
  {
   "cell_type": "code",
   "execution_count": 6,
   "id": "ce9787e8",
   "metadata": {},
   "outputs": [
    {
     "data": {
      "text/plain": [
       "[array([(0, 0), (1, 1), (2, 2), (3, 3), (4, 4), (5, 5), (6, 6), (7, 7),\n",
       "        (8, 8), (9, 9)], dtype=[('row', '<i4'), ('col', '<i4')]),\n",
       " array([0, 1, 2, 3, 4, 5, 6, 7, 8, 9])]"
      ]
     },
     "execution_count": 6,
     "metadata": {},
     "output_type": "execute_result"
    }
   ],
   "source": [
    "dp.data"
   ]
  },
  {
   "cell_type": "markdown",
   "id": "7a31c3af",
   "metadata": {},
   "source": [
    "`metadata` describes everything except for the metadata. This includes information we have (e.g. the matrix name), and defaults for values we didn't give (e.g. the license). `create_datapackage` will also make up information we don't provide, like the name or id:"
   ]
  },
  {
   "cell_type": "code",
   "execution_count": 7,
   "id": "38dd3359",
   "metadata": {},
   "outputs": [
    {
     "data": {
      "text/plain": [
       "{'profile': 'data-package',\n",
       " 'name': '4b73b70261ce4ce58399bd9db456d1d9',\n",
       " 'id': '275bf88d8fb1464c8ee19998578aa200',\n",
       " 'licenses': [{'name': 'ODC-PDDL-1.0',\n",
       "   'path': 'http://opendatacommons.org/licenses/pddl/',\n",
       "   'title': 'Open Data Commons Public Domain Dedication and License v1.0'}],\n",
       " 'resources': [{'profile': 'data-resource',\n",
       "   'format': 'npy',\n",
       "   'mediatype': 'application/octet-stream',\n",
       "   'name': 'first.indices',\n",
       "   'matrix': 'something',\n",
       "   'kind': 'indices',\n",
       "   'path': 'first.indices.npy',\n",
       "   'group': 'first',\n",
       "   'category': 'vector',\n",
       "   'nrows': 10},\n",
       "  {'profile': 'data-resource',\n",
       "   'format': 'npy',\n",
       "   'mediatype': 'application/octet-stream',\n",
       "   'name': 'first.data',\n",
       "   'matrix': 'something',\n",
       "   'kind': 'data',\n",
       "   'path': 'first.data.npy',\n",
       "   'group': 'first',\n",
       "   'category': 'vector',\n",
       "   'nrows': 10}],\n",
       " 'created': '2021-08-27T13:48:02.933377Z',\n",
       " 'combinatorial': False,\n",
       " 'sequential': False,\n",
       " 'seed': None,\n",
       " 'sum_intra_duplicates': True,\n",
       " 'sum_inter_duplicates': False}"
      ]
     },
     "execution_count": 7,
     "metadata": {},
     "output_type": "execute_result"
    }
   ],
   "source": [
    "dp.metadata"
   ]
  },
  {
   "cell_type": "markdown",
   "id": "5aa5e904",
   "metadata": {},
   "source": [
    "The documentation covers these fields, and most of them come from the OKF standard."
   ]
  },
  {
   "cell_type": "code",
   "execution_count": 8,
   "id": "675789f8",
   "metadata": {},
   "outputs": [
    {
     "data": {
      "text/plain": [
       "[{'profile': 'data-resource',\n",
       "  'format': 'npy',\n",
       "  'mediatype': 'application/octet-stream',\n",
       "  'name': 'first.indices',\n",
       "  'matrix': 'something',\n",
       "  'kind': 'indices',\n",
       "  'path': 'first.indices.npy',\n",
       "  'group': 'first',\n",
       "  'category': 'vector',\n",
       "  'nrows': 10},\n",
       " {'profile': 'data-resource',\n",
       "  'format': 'npy',\n",
       "  'mediatype': 'application/octet-stream',\n",
       "  'name': 'first.data',\n",
       "  'matrix': 'something',\n",
       "  'kind': 'data',\n",
       "  'path': 'first.data.npy',\n",
       "  'group': 'first',\n",
       "  'category': 'vector',\n",
       "  'nrows': 10}]"
      ]
     },
     "execution_count": 8,
     "metadata": {},
     "output_type": "execute_result"
    }
   ],
   "source": [
    "dp.resources"
   ]
  },
  {
   "cell_type": "markdown",
   "id": "03e7d9cb",
   "metadata": {},
   "source": [
    "Let's add another datapackage."
   ]
  },
  {
   "cell_type": "code",
   "execution_count": 9,
   "id": "67050b8a",
   "metadata": {},
   "outputs": [],
   "source": [
    "dp.add_persistent_vector(\n",
    "    matrix=\"something else\",\n",
    "    indices_array=np.arange(10).astype(bwp.INDICES_DTYPE),\n",
    "    data_array=np.random.random(size=(10,)),\n",
    "    name='second'\n",
    ")"
   ]
  },
  {
   "cell_type": "code",
   "execution_count": 31,
   "id": "a738906d",
   "metadata": {},
   "outputs": [
    {
     "name": "stdout",
     "output_type": "stream",
     "text": [
      "[(0, 0) (1, 1) (2, 2) (3, 3) (4, 4) (5, 5) (6, 6) (7, 7) (8, 8) (9, 9)] [0 1 2 3 4 5 6 7 8 9]\n",
      "{'profile': 'data-resource', 'format': 'npy', 'mediatype': 'application/octet-stream', 'name': 'first.indices', 'matrix': 'something', 'kind': 'indices', 'path': 'first.indices.npy', 'group': 'first', 'category': 'vector', 'nrows': 10} {'profile': 'data-resource', 'format': 'npy', 'mediatype': 'application/octet-stream', 'name': 'first.data', 'matrix': 'something', 'kind': 'data', 'path': 'first.data.npy', 'group': 'first', 'category': 'vector', 'nrows': 10}\n"
     ]
    }
   ],
   "source": [
    "for x, y in zip(dp.get_resource(\"first.indices\"), dp.get_resource(\"first.data\")):\n",
    "    print(x, y)"
   ]
  },
  {
   "cell_type": "code",
   "execution_count": null,
   "id": "6ca4f31b",
   "metadata": {},
   "outputs": [],
   "source": []
  }
 ],
 "metadata": {
  "kernelspec": {
   "display_name": "Python 3",
   "language": "python",
   "name": "python3"
  },
  "language_info": {
   "codemirror_mode": {
    "name": "ipython",
    "version": 3
   },
   "file_extension": ".py",
   "mimetype": "text/x-python",
   "name": "python",
   "nbconvert_exporter": "python",
   "pygments_lexer": "ipython3",
   "version": "3.8.10"
  }
 },
 "nbformat": 4,
 "nbformat_minor": 5
}
